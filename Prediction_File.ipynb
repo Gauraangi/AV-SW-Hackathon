{
 "cells": [
  {
   "cell_type": "code",
   "execution_count": null,
   "metadata": {
    "id": "VntdJVmAfaIp"
   },
   "outputs": [],
   "source": [
    "!pip3 install mtcnn"
   ]
  },
  {
   "cell_type": "code",
   "execution_count": null,
   "metadata": {
    "id": "H0kR_WGPfklz"
   },
   "outputs": [],
   "source": [
    "import cv2\n",
    "import numpy as np\n",
    "import pandas as pd\n",
    "import tensorflow as tf\n",
    "from mtcnn.mtcnn import MTCNN\n",
    "detector  = MTCNN() #creating an instance for MTCNN for face detection"
   ]
  },
  {
   "cell_type": "code",
   "execution_count": null,
   "metadata": {
    "id": "hQI0JAraee9B"
   },
   "outputs": [],
   "source": [
    "#to load the model weights \n",
    "Siamese_Net = tf.keras.models.load_model('Path of the model weights file')"
   ]
  },
  {
   "cell_type": "code",
   "execution_count": 51,
   "metadata": {
    "executionInfo": {
     "elapsed": 646269,
     "status": "ok",
     "timestamp": 1607112074418,
     "user": {
      "displayName": "Khushil yadav",
      "photoUrl": "",
      "userId": "17383782050180458030"
     },
     "user_tz": -330
    },
    "id": "JeC_QBvAPd_j"
   },
   "outputs": [],
   "source": [
    "class_list = pd.read_pickle(r'Path of the classImages.pickle file') #List Containing One Image of Every Class Including My Image\n",
    "names = pd.read_pickle(r'path of the names.pickle file') #List of Names of Every Class"
   ]
  },
  {
   "cell_type": "code",
   "execution_count": null,
   "metadata": {
    "id": "8DpvhHYZc3GR"
   },
   "outputs": [],
   "source": [
    "IMG_SIZE = 80\n",
    "#Function to take inputs \n",
    "def input_image(path):\n",
    "  img = cv2.imread(path)\n",
    "  img = cv2.cvtColor(img, cv2.COLOR_BGR2RGB)\n",
    "  return img"
   ]
  },
  {
   "cell_type": "code",
   "execution_count": 55,
   "metadata": {
    "executionInfo": {
     "elapsed": 1353,
     "status": "ok",
     "timestamp": 1607112755021,
     "user": {
      "displayName": "Khushil yadav",
      "photoUrl": "",
      "userId": "17383782050180458030"
     },
     "user_tz": -330
    },
    "id": "tvdjnAeZ9egp"
   },
   "outputs": [],
   "source": [
    "#Function to make predictions\n",
    "def make_prediction(path):\n",
    "  image = input_image(path)\n",
    "  face_locations = detector.detect_faces(image)\n",
    "  for face_loc in face_locations:\n",
    "    x,y,w,h = face_loc['box']\n",
    "    face = image[y:y+h,x:x+w]\n",
    "    face = cv2.resize(face,(IMG_SIZE,IMG_SIZE))\n",
    "    face_1 = np.reshape(face,(1,IMG_SIZE,IMG_SIZE,3))\n",
    "    for idx in range(len(class_images)-1):\n",
    "      face_2 = np.reshape(class_images[idx],(1,IMG_SIZE,IMG_SIZE,3))\n",
    "      prob = model.predict([face_1,face_2])\n",
    "      if prob[0] > 0.6:\n",
    "        return names[idx]      \n",
    "  return \"Sorry Image Not Found In The Dataset!\""
   ]
  },
  {
   "cell_type": "code",
   "execution_count": null,
   "metadata": {
    "id": "Iw63auHWeWhZ"
   },
   "outputs": [],
   "source": [
    "print(make_prediction('enter the path of the image'))"
   ]
  }
 ],
 "metadata": {
  "colab": {
   "collapsed_sections": [],
   "name": "Prediction_File.ipynb",
   "provenance": []
  },
  "kernelspec": {
   "display_name": "Python 3",
   "language": "python",
   "name": "python3"
  },
  "language_info": {
   "codemirror_mode": {
    "name": "ipython",
    "version": 3
   },
   "file_extension": ".py",
   "mimetype": "text/x-python",
   "name": "python",
   "nbconvert_exporter": "python",
   "pygments_lexer": "ipython3",
   "version": "3.7.6"
  }
 },
 "nbformat": 4,
 "nbformat_minor": 1
}
